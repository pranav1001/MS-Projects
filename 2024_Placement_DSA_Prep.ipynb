{
  "cells": [
    {
      "cell_type": "code",
      "execution_count": null,
      "metadata": {
        "id": "mtZk1R4_vP-u"
      },
      "outputs": [],
      "source": []
    },
    {
      "cell_type": "code",
      "execution_count": null,
      "metadata": {
        "id": "joDO8qkCmGi8"
      },
      "outputs": [],
      "source": [
        "# *Insertion Sort*\n",
        "\n",
        "def InsertionSort(arr):\n",
        "  for i in range(1, len(arr)):\n",
        "    key= arr[i]\n",
        "    j= i-1\n",
        "    while j>=0 and key< arr[j]:\n",
        "      arr[j+1]= arr[j]\n",
        "      j= j-1\n",
        "    arr[j+1]= key\n",
        "  return arr\n",
        "\n",
        "\n",
        "\n",
        "InsertionSort([6,5,3,1,8,7])\n"
      ]
    },
    {
      "cell_type": "code",
      "execution_count": null,
      "metadata": {
        "id": "wI7ZPn29J9EH"
      },
      "outputs": [],
      "source": []
    },
    {
      "cell_type": "markdown",
      "metadata": {
        "id": "ChquiP6O81BI"
      },
      "source": [
        "### ***Recursion***\n"
      ]
    },
    {
      "cell_type": "code",
      "execution_count": null,
      "metadata": {
        "id": "UyqjqaUk9E4h"
      },
      "outputs": [],
      "source": [
        "#pepcoding Recursion Questions\n",
        "# Print Decreasing Numbers\n",
        "def printDecreasing(n):\n",
        "  if n==0:\n",
        "    return\n",
        "  print(n)\n",
        "  printDecreasing(n-1)\n",
        "\n",
        "printDecreasing(5)"
      ]
    },
    {
      "cell_type": "code",
      "execution_count": null,
      "metadata": {
        "id": "nUsHfDI19Q2e"
      },
      "outputs": [],
      "source": [
        "# Print Increasing Numbers\n",
        "def printIncreasing(n):\n",
        "  printIncreasing(n-1)\n",
        "  print(n)\n",
        "\n"
      ]
    },
    {
      "cell_type": "code",
      "execution_count": null,
      "metadata": {
        "colab": {
          "base_uri": "https://localhost:8080/"
        },
        "id": "jPvMG3K2XxE5",
        "outputId": "89cea6d9-1792-427b-8303-3f2129961b60"
      },
      "outputs": [
        {
          "name": "stdout",
          "output_type": "stream",
          "text": [
            "5\n",
            "4\n",
            "3\n",
            "2\n",
            "1\n",
            "1\n",
            "2\n",
            "3\n",
            "4\n",
            "5\n"
          ]
        }
      ],
      "source": [
        "def printID(n):\n",
        "    if n==0:\n",
        "        return\n",
        "    print(n)\n",
        "    printID(n-1)\n",
        "    print(n)\n",
        "\n",
        "\n",
        "\n",
        "\n",
        "\n",
        "printID(5)"
      ]
    },
    {
      "cell_type": "code",
      "execution_count": null,
      "metadata": {
        "id": "C2zFBQ7cvP-x",
        "outputId": "f1c21df8-406f-41ce-cc31-92b48a2d7c7f"
      },
      "outputs": [
        {
          "name": "stdout",
          "output_type": "stream",
          "text": [
            "1\n",
            "0\n",
            "1\n",
            "1\n",
            "0\n",
            "1\n",
            "0\n",
            "1\n"
          ]
        },
        {
          "data": {
            "text/plain": [
              "5"
            ]
          },
          "execution_count": 4,
          "metadata": {},
          "output_type": "execute_result"
        }
      ],
      "source": [
        "# Fibo\n",
        "\n",
        "\n",
        "def fib(n):\n",
        "\n",
        "\n",
        "    if n==0:\n",
        "        print(0)\n",
        "        return 0\n",
        "    if n==1:\n",
        "        print(1)\n",
        "        return 1\n",
        "\n",
        "\n",
        "    return fib(n-1) + fib(n-2)\n",
        "\n",
        "fib(5)"
      ]
    },
    {
      "cell_type": "code",
      "execution_count": null,
      "metadata": {
        "id": "usVBit3TvP-x",
        "outputId": "b9cc9b33-54d8-424d-d35c-000a3d8f9287"
      },
      "outputs": [
        {
          "name": "stdout",
          "output_type": "stream",
          "text": [
            "[['a', 'b', 'c'], 2, 3]\n",
            "[['a', 'b', 'c'], 2, 3]\n"
          ]
        }
      ],
      "source": [
        "my_list = [['a', 'b'], 2,3]\n",
        "\n",
        "my_copy= my_list\n",
        "\n",
        "\n",
        "my_list[0].append('c')\n",
        "\n",
        "print(my_copy)\n",
        "print(my_list)\n"
      ]
    },
    {
      "cell_type": "code",
      "execution_count": null,
      "metadata": {
        "id": "ajZGY_iqvRvO"
      },
      "outputs": [],
      "source": [
        "#### trial adsfajhskdfkljashfkjahsfdkjhaskjldfhkajshfkasdf"
      ]
    },
    {
      "cell_type": "code",
      "execution_count": 1,
      "metadata": {},
      "outputs": [],
      "source": [
        "#trail\n"
      ]
    },
    {
      "cell_type": "code",
      "execution_count": null,
      "metadata": {},
      "outputs": [],
      "source": [
        "dafdsfasdf"
      ]
    },
    {
      "cell_type": "code",
      "execution_count": null,
      "metadata": {},
      "outputs": [],
      "source": [
        "asdfasdfasdf"
      ]
    },
    {
      "cell_type": "code",
      "execution_count": null,
      "metadata": {},
      "outputs": [],
      "source": [
        "asdfasdfdfdd"
      ]
    },
    {
      "cell_type": "code",
      "execution_count": null,
      "metadata": {},
      "outputs": [],
      "source": [
        "ddddd"
      ]
    }
  ],
  "metadata": {
    "colab": {
      "provenance": []
    },
    "kernelspec": {
      "display_name": "Python 3",
      "name": "python3"
    },
    "language_info": {
      "codemirror_mode": {
        "name": "ipython",
        "version": 3
      },
      "file_extension": ".py",
      "mimetype": "text/x-python",
      "name": "python",
      "nbconvert_exporter": "python",
      "pygments_lexer": "ipython3",
      "version": "3.10.9"
    }
  },
  "nbformat": 4,
  "nbformat_minor": 0
}
