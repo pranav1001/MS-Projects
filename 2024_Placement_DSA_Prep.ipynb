{
  "cells": [
    {
      "cell_type": "markdown",
      "metadata": {
        "id": "view-in-github",
        "colab_type": "text"
      },
      "source": [
        "<a href=\"https://colab.research.google.com/github/pranav1001/MS-Projects/blob/master/2024_Placement_DSA_Prep.ipynb\" target=\"_parent\"><img src=\"https://colab.research.google.com/assets/colab-badge.svg\" alt=\"Open In Colab\"/></a>"
      ]
    },
    {
      "cell_type": "code",
      "execution_count": null,
      "metadata": {
        "id": "joDO8qkCmGi8"
      },
      "outputs": [],
      "source": [
        "# *Insertion Sort*\n",
        "\n",
        "def InsertionSort(arr):\n",
        "  for i in range(1, len(arr)):\n",
        "    key= arr[i]\n",
        "    j= i-1\n",
        "    while j>=0 and key< arr[j]:\n",
        "      arr[j+1]= arr[j]\n",
        "      j= j-1\n",
        "    arr[j+1]= key\n",
        "  return arr\n",
        "\n",
        "\n",
        "\n",
        "InsertionSort([6,5,3,1,8,7])\n"
      ]
    },
    {
      "cell_type": "code",
      "execution_count": null,
      "metadata": {
        "id": "wI7ZPn29J9EH"
      },
      "outputs": [],
      "source": []
    },
    {
      "cell_type": "markdown",
      "metadata": {
        "id": "ChquiP6O81BI"
      },
      "source": [
        "### ***Recursion***\n"
      ]
    },
    {
      "cell_type": "code",
      "execution_count": null,
      "metadata": {
        "id": "UyqjqaUk9E4h"
      },
      "outputs": [],
      "source": [
        "#pepcoding Recursion Questions\n",
        "# Print Decreasing Numbers\n",
        "def printDecreasing(n):\n",
        "  if n==0:\n",
        "    return\n",
        "  print(n)\n",
        "  printDecreasing(n-1)\n",
        "\n",
        "printDecreasing(5)"
      ]
    },
    {
      "cell_type": "code",
      "execution_count": null,
      "metadata": {
        "id": "nUsHfDI19Q2e"
      },
      "outputs": [],
      "source": [
        "# Print Increasing Numbers\n",
        "def printIncreasing(n):\n",
        "  printIncreasing(n-1)\n",
        "  print(n)\n",
        "\n"
      ]
    }
  ],
  "metadata": {
    "colab": {
      "provenance": [],
      "authorship_tag": "ABX9TyO5vSLR8zii1butKtCR4jpg",
      "include_colab_link": true
    },
    "kernelspec": {
      "display_name": "Python 3",
      "name": "python3"
    },
    "language_info": {
      "codemirror_mode": {
        "name": "ipython",
        "version": 3
      },
      "file_extension": ".py",
      "mimetype": "text/x-python",
      "name": "python",
      "nbconvert_exporter": "python",
      "pygments_lexer": "ipython3",
      "version": "3.10.9"
    }
  },
  "nbformat": 4,
  "nbformat_minor": 0
}